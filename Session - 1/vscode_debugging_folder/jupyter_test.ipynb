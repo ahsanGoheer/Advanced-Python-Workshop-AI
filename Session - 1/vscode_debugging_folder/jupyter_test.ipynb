{
 "cells": [
  {
   "cell_type": "code",
   "execution_count": 5,
   "metadata": {},
   "outputs": [],
   "source": [
    "def new_foo():\n",
    "    print(\"How are you?\")"
   ]
  },
  {
   "cell_type": "code",
   "execution_count": 7,
   "metadata": {},
   "outputs": [],
   "source": [
    "new_foo_1 = 1\n",
    "new_foo_2 = 2\n",
    "new_foo_3 = 3\n",
    "\n",
    "#? Do something. \n",
    "#! TODO: \n"
   ]
  }
 ],
 "metadata": {
  "kernelspec": {
   "display_name": "Python 3.8.8 ('base')",
   "language": "python",
   "name": "python3"
  },
  "language_info": {
   "codemirror_mode": {
    "name": "ipython",
    "version": 3
   },
   "file_extension": ".py",
   "mimetype": "text/x-python",
   "name": "python",
   "nbconvert_exporter": "python",
   "pygments_lexer": "ipython3",
   "version": "3.8.8"
  },
  "orig_nbformat": 4,
  "vscode": {
   "interpreter": {
    "hash": "b6da964a20b10732ed705bf72fed76571aea7e41e9182cffe590d7155a6a09bd"
   }
  }
 },
 "nbformat": 4,
 "nbformat_minor": 2
}
